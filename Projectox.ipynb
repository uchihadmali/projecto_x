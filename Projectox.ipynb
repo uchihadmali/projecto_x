{
  "nbformat": 4,
  "nbformat_minor": 0,
  "metadata": {
    "colab": {
      "name": "Projectox.ipynb",
      "provenance": [],
      "collapsed_sections": [],
      "authorship_tag": "ABX9TyO+6K45aUE+bA54+A0sugHi",
      "include_colab_link": true
    },
    "kernelspec": {
      "name": "python3",
      "display_name": "Python 3"
    },
    "language_info": {
      "name": "python"
    }
  },
  "cells": [
    {
      "cell_type": "markdown",
      "metadata": {
        "id": "view-in-github",
        "colab_type": "text"
      },
      "source": [
        "<a href=\"https://colab.research.google.com/github/uchihadmali/projecto_x/blob/main/Projectox.ipynb\" target=\"_parent\"><img src=\"https://colab.research.google.com/assets/colab-badge.svg\" alt=\"Open In Colab\"/></a>"
      ]
    },
    {
      "cell_type": "markdown",
      "source": [
        "library import"
      ],
      "metadata": {
        "id": "vtO83gDe7ibg"
      }
    },
    {
      "cell_type": "code",
      "execution_count": 1,
      "metadata": {
        "id": "kIbzwb-57V3B"
      },
      "outputs": [],
      "source": [
        "import numpy as np"
      ]
    },
    {
      "cell_type": "markdown",
      "source": [
        "initialize the time vector"
      ],
      "metadata": {
        "id": "mpx8h1O5UK4Y"
      }
    },
    {
      "cell_type": "code",
      "source": [
        "sampling_frequency = 200 #Hz\n",
        "signal_duration = 2 #seconds\n",
        "time = np.arange(signal_duration*sampling_frequency) / sampling_frequency+(1/sampling_frequency)"
      ],
      "metadata": {
        "id": "3czOFnvUQ-bs"
      },
      "execution_count": 2,
      "outputs": []
    },
    {
      "cell_type": "markdown",
      "source": [
        "calculate the message signal"
      ],
      "metadata": {
        "id": "iwNFJlOnUeUF"
      }
    },
    {
      "cell_type": "code",
      "source": [
        "message=np.sin(50*np.pi*time)-np.cos(200*np.pi*time)"
      ],
      "metadata": {
        "id": "doITEntGUecg"
      },
      "execution_count": 3,
      "outputs": []
    },
    {
      "cell_type": "markdown",
      "source": [
        "initialize the quantization vector and sample valve"
      ],
      "metadata": {
        "id": "fZIXkAX-7h2B"
      }
    },
    {
      "cell_type": "code",
      "source": [
        "quant_level=128\n",
        "max_message_amplitude = max(abs(message))\n",
        "interval_width=(2*max_message_amplitude)/quant_level\n",
        "quant_vector = (np.arange(quant_level)*2*max_message_amplitude)/quant_level-max_message_amplitude\n",
        "sample_valve=quant_vector+(interval_width/2)"
      ],
      "metadata": {
        "id": "hW3RcZwsY4nV"
      },
      "execution_count": 4,
      "outputs": []
    },
    {
      "cell_type": "markdown",
      "source": [
        "Quantization"
      ],
      "metadata": {
        "id": "1UdOGn0RdTqE"
      }
    },
    {
      "cell_type": "code",
      "source": [
        "pcm = np.zeros_like(message,int)\n",
        "\n",
        "for i, t in enumerate(time):\n",
        "  comparison= np.zeros_like(sample_valve)+message[i]\n",
        "  pcm[i] = (int(np.sum(comparison<sample_valve)))\n"
      ],
      "metadata": {
        "id": "h1ZC2P8AdTwd"
      },
      "execution_count": 5,
      "outputs": []
    },
    {
      "cell_type": "markdown",
      "source": [
        "Printing result for the first part"
      ],
      "metadata": {
        "id": "qSm6_3tD76W1"
      }
    },
    {
      "cell_type": "code",
      "source": [
        "print('{0:07b}'.format(pcm[0]),end=\"-\")\n",
        "for i in range(8):\n",
        "   print('{0:07b}'.format(pcm[i+1]),end=\"-\")\n",
        "print('{0:07b}'.format(pcm[10]),end=\"\")"
      ],
      "metadata": {
        "colab": {
          "base_uri": "https://localhost:8080/"
        },
        "id": "kbnrJtZM76fs",
        "outputId": "8df6f8a6-bf13-4c97-f701-fec9ed84751c"
      },
      "execution_count": 6,
      "outputs": [
        {
          "output_type": "stream",
          "name": "stdout",
          "text": [
            "0001001-1000000-0001001-1100000-0110111-10000000-0110111-1100000-0001001-0001001"
          ]
        }
      ]
    }
  ]
}